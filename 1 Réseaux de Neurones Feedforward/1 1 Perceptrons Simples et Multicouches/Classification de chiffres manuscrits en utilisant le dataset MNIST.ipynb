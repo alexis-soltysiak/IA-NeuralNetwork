{
 "cells": [
  {
   "cell_type": "markdown",
   "id": "abcea9a7-e030-448a-967b-e2f0b679cb7a",
   "metadata": {},
   "source": [
    "# Classification de chiffres manuscrits en utilisant le dataset MNIST"
   ]
  },
  {
   "cell_type": "markdown",
   "id": "699b3405-4745-45da-9bb7-d90fe8010181",
   "metadata": {},
   "source": [
    "## Description"
   ]
  },
  {
   "cell_type": "markdown",
   "id": "131e3d5d-2168-49d2-af0b-30501dc29120",
   "metadata": {},
   "source": [
    "- Dans ce TP nous allons récuperer les images du mnist ou différents chiffres de 1 à 9 sont labelisés."
   ]
  },
  {
   "cell_type": "markdown",
   "id": "2b7d0737-6be2-4ac8-9526-f0e3c443edd8",
   "metadata": {},
   "source": [
    "# Sommaire"
   ]
  },
  {
   "cell_type": "markdown",
   "id": "f0c55582-29c2-453c-8dc8-318ae1139d89",
   "metadata": {},
   "source": [
    "#### [Importation](#mon-titre1)\n",
    "#### [Load Data and normalisation](#mon-titre2)\n",
    "- [Load data from mnist](#mon-sous-titre21)\n",
    "- [Normalisation](#mon-sous-titre22)\n",
    "- [Exemple](#mon-sous-titre23)\n",
    "#### [Creation of the model](#mon-titre3)\n",
    "- [Model Representation](#mon-sous-titre31)\n",
    "- [Layer description](#mon-sous-titre32)\n",
    "- [Python Model](#mon-sous-titre33)\n",
    "#### [Compilation of the model](#mon-titre4)\n",
    "#### [Train](#mon-titre5)\n",
    "#### [Prediction](#mon-titre6)\n",
    "- [Show image to predictn](#mon-sous-titre61)\n",
    "- [Show prediction](#mon-sous-titre62)\n",
    "- [Show last layer probability](#mon-sous-titre63)\n",
    "\n",
    "\n",
    "\n"
   ]
  },
  {
   "cell_type": "markdown",
   "id": "2ef5d5cb-23b8-47a6-8105-d9e19775247e",
   "metadata": {},
   "source": [
    "<a id=\"mon-titre1\"></a>\n",
    "## Importation"
   ]
  },
  {
   "cell_type": "code",
   "execution_count": 34,
   "id": "0c0d2ca8-e683-49af-9308-38e0e75a398e",
   "metadata": {},
   "outputs": [],
   "source": [
    "import tensorflow as tf\n",
    "import numpy as np\n",
    "import matplotlib.pyplot as plt\n",
    "from tensorflow.keras.models import Model\n",
    "import seaborn as sns"
   ]
  },
  {
   "cell_type": "markdown",
   "id": "1cfae1d1-51ea-42b0-99ac-69583a21bd41",
   "metadata": {},
   "source": [
    "<a id=\"mon-titre2\"></a>\n",
    "## Load Data and normalisation"
   ]
  },
  {
   "cell_type": "markdown",
   "id": "00635031-7005-4e66-96a9-65a7012fc048",
   "metadata": {},
   "source": [
    "<a id=\"mon-sous-titre21\"></a>\n",
    "### Load data from mnist"
   ]
  },
  {
   "cell_type": "code",
   "execution_count": 36,
   "id": "05dcbc70-f8fb-4fbe-b1e1-1f215f95bc6d",
   "metadata": {},
   "outputs": [],
   "source": [
    "(train_images, train_labels), (test_images, test_labels) = tf.keras.datasets.mnist.load_data()"
   ]
  },
  {
   "cell_type": "markdown",
   "id": "2ac57d50-8c15-4520-bf21-b01b077c6f27",
   "metadata": {},
   "source": [
    "<a id=\"mon-sous-titre22\"></a>\n",
    "### Normalisation"
   ]
  },
  {
   "cell_type": "code",
   "execution_count": 37,
   "id": "607c2402-ff83-41b8-9bb5-acb5aa147a3f",
   "metadata": {},
   "outputs": [],
   "source": [
    "train_images = train_images / 255.0\n",
    "test_images = test_images / 255.0"
   ]
  },
  {
   "cell_type": "markdown",
   "id": "cd305269-4beb-46b2-b85b-73f751d763fc",
   "metadata": {},
   "source": [
    "<a id=\"mon-sous-titre23\"></a>\n",
    "### Example"
   ]
  },
  {
   "cell_type": "code",
   "execution_count": 38,
   "id": "e1623126-91f6-42e4-a31c-1984ba4833ef",
   "metadata": {},
   "outputs": [
    {
     "data": {
      "image/png": "[encoded data removed]",
      "text/plain": [
       "<Figure size 640x480 with 1 Axes>"
      ]
     },
     "metadata": {},
     "output_type": "display_data"
    }
   ],
   "source": [
    "plt.imshow(train_images[2], cmap='gray')\n",
    "plt.title('Selected Test Image')\n",
    "plt.show()"
   ]
  },
  {
   "cell_type": "markdown",
   "id": "7ed5ec8a-938b-4810-8367-4abd9e77e24c",
   "metadata": {},
   "source": [
    "<a id=\"mon-titre3\"></a>\n",
    "## Creation of the model"
   ]
  },
  {
   "cell_type": "markdown",
   "id": "f8137722-2e6c-49ce-9a28-03aacf96ba59",
   "metadata": {},
   "source": [
    "<a id=\"mon-sous-titre31\"></a>\n",
    "### Model Representation"
   ]
  },
  {
   "cell_type": "markdown",
   "id": "06cc3b7a-b5f2-452a-90fa-df5f50e96b46",
   "metadata": {},
   "source": [
    "\n",
    "<img src=\"../../images/1_1_model.png\" alt=\"Description alternative de l'image\" width=\"500\"/>\r\n"
   ]
  },
  {
   "cell_type": "markdown",
   "id": "a6a40859-13c4-49a5-b668-a5168e2922bb",
   "metadata": {},
   "source": [
    "<a id=\"mon-sous-titre32\"></a>\n",
    "### Layers description"
   ]
  },
  {
   "cell_type": "markdown",
   "id": "b19379d9-c77b-4878-a5a4-8027598ff265",
   "metadata": {},
   "source": [
    "<table>\n",
    "<tr>\n",
    "    <td style=\"width: 50%\">\n",
    "        <img src=\"../../images/Layer_flatten.png\" alt=\"Layer_flatten\" style=\"width: 100%\"/>\n",
    "    </td>\n",
    "    <td style=\"width: 50%; vertical-align: top;\">\n",
    "        <h2><strong>Flatten</strong></h2>\n",
    "        <p><strong>Rôle :</strong> Transforme la matrice 2D (sortie de la couche de pooling) en un vecteur 1D. Cela permet de passer d'une représentation spatiale à une représentation plate, adaptée pour les couches denses.</p>\n",
    "    </td>\n",
    "</tr>\n",
    "<tr>\n",
    "    <td style=\"width: 50%\">\n",
    "        <img src=\"../../images/Layer_dense.png\" alt=\"Layer_dense\" style=\"width: 100%\"/>\n",
    "    </td>\n",
    "    <td style=\"width: 50%; vertical-align: top;\">\n",
    "        <h2><strong>Dense</strong></h2>\n",
    "        <p><strong>Neurones :</strong> 128</p>\n",
    "        <p><strong>Activation :</strong> 'relu'</p>\n",
    "        <p><strong>Rôle :</strong> Interprète les caractéristiques apprises par les couches précédentes pour effectuer une classification plus complexe. Les 128 neurones permettent au réseau de créer des combinaisons complexes et non linéaires des caractéristiques extraites.</p>\n",
    "    </td>\n",
    "</tr>\n",
    "</table>\n"
   ]
  },
  {
   "cell_type": "markdown",
   "id": "e07192e3-9b3f-40c1-b3e2-e371acd60b7a",
   "metadata": {},
   "source": [
    "<a id=\"mon-sous-titre33\"></a>\n",
    "### Python Model"
   ]
  },
  {
   "cell_type": "code",
   "execution_count": 33,
   "id": "e86e1c32-ff13-41ba-9f5f-977b0fbfa6ab",
   "metadata": {},
   "outputs": [],
   "source": [
    "model = tf.keras.models.Sequential([\n",
    "    tf.keras.layers.Flatten(input_shape=(28, 28)),\n",
    "    tf.keras.layers.Dense(64, activation='relu'),\n",
    "    tf.keras.layers.Dense(10, activation='softmax')\n",
    "])"
   ]
  },
  {
   "cell_type": "markdown",
   "id": "6e038d85-2a00-4235-8ba2-79e78366b6d0",
   "metadata": {},
   "source": [
    "<a id=\"mon-titre4\"></a>\n",
    "## Compilation of the model"
   ]
  },
  {
   "cell_type": "code",
   "execution_count": 23,
   "id": "19ea6d72-d7ed-43a0-8c59-ca189510e8f7",
   "metadata": {},
   "outputs": [],
   "source": [
    "model.compile(optimizer='adam',\n",
    "              loss='sparse_categorical_crossentropy',\n",
    "              metrics=['accuracy'])"
   ]
  },
  {
   "cell_type": "markdown",
   "id": "49251324-18bc-4bcf-84a8-3bd0ef214c74",
   "metadata": {},
   "source": [
    "<a id=\"mon-titre5\"></a>\n",
    "## Train"
   ]
  },
  {
   "cell_type": "code",
   "execution_count": 25,
   "id": "b308b498-87a3-4af2-b5b7-02974372709e",
   "metadata": {},
   "outputs": [
    {
     "name": "stdout",
     "output_type": "stream",
     "text": [
      "Epoch 1/5\n",
      "1875/1875 [==============================] - 3s 2ms/step - loss: 0.0584 - accuracy: 0.9823 - val_loss: 0.0919 - val_accuracy: 0.9719\n",
      "Epoch 2/5\n",
      "1875/1875 [==============================] - 3s 2ms/step - loss: 0.0498 - accuracy: 0.9845 - val_loss: 0.0866 - val_accuracy: 0.9724\n",
      "Epoch 3/5\n",
      "1875/1875 [==============================] - 3s 1ms/step - loss: 0.0423 - accuracy: 0.9871 - val_loss: 0.0887 - val_accuracy: 0.9733\n",
      "Epoch 4/5\n",
      "1875/1875 [==============================] - 3s 2ms/step - loss: 0.0377 - accuracy: 0.9884 - val_loss: 0.0915 - val_accuracy: 0.9735\n",
      "Epoch 5/5\n",
      "1875/1875 [==============================] - 3s 2ms/step - loss: 0.0323 - accuracy: 0.9902 - val_loss: 0.0796 - val_accuracy: 0.9767\n"
     ]
    },
    {
     "data": {
      "text/plain": [
       "<keras.src.callbacks.History at 0x1a101427460>"
      ]
     },
     "execution_count": 25,
     "metadata": {},
     "output_type": "execute_result"
    }
   ],
   "source": [
    "model.fit(train_images, train_labels, epochs=5, validation_data=(test_images, test_labels))"
   ]
  },
  {
   "cell_type": "markdown",
   "id": "638f570a-5a3a-4ca5-a36d-b79d4a947a86",
   "metadata": {},
   "source": [
    "<a id=\"mon-titre6\"></a>\n",
    "## Prediction "
   ]
  },
  {
   "cell_type": "markdown",
   "id": "119d66c3-299c-4e13-8f13-97e3f3cc3d40",
   "metadata": {},
   "source": [
    "<a id=\"mon-sous-titre61\"></a>\n",
    "### Show image to predict"
   ]
  },
  {
   "cell_type": "code",
   "execution_count": 26,
   "id": "b062146c-c8ad-4a5e-b16b-e6d9689148de",
   "metadata": {},
   "outputs": [
    {
     "data": {
      "image/png": "[encoded data removed]",
      "text/plain": [
       "<Figure size 640x480 with 1 Axes>"
      ]
     },
     "metadata": {},
     "output_type": "display_data"
    }
   ],
   "source": [
    "selected_test_image = test_images[0]\n",
    "\n",
    "plt.imshow(selected_test_image, cmap='gray')\n",
    "plt.title('Selected Test Image')\n",
    "plt.show()"
   ]
  },
  {
   "cell_type": "markdown",
   "id": "920a8ae0-15be-46bb-a241-70510a0d80da",
   "metadata": {},
   "source": [
    "<a id=\"mon-sous-titre62\"></a>\n",
    "### Show prediction"
   ]
  },
  {
   "cell_type": "code",
   "execution_count": 27,
   "id": "5f14ba6e",
   "metadata": {},
   "outputs": [
    {
     "name": "stdout",
     "output_type": "stream",
     "text": [
      "1/1 [==============================] - 0s 107ms/step\n",
      "Predicted class: 7\n"
     ]
    }
   ],
   "source": [
    "test_img_reshaped = selected_test_image.reshape(1, 28, 28)\n",
    "prediction = model.predict(test_img_reshaped)\n",
    "\n",
    "predicted_class = np.argmax(prediction, axis=1)\n",
    "\n",
    "print(\"Predicted class:\", predicted_class[0])"
   ]
  },
  {
   "cell_type": "markdown",
   "id": "d0274e19-d168-4ce0-8eb1-36c0b07d9afd",
   "metadata": {},
   "source": [
    "<a id=\"mon-sous-titre63\"></a>\n",
    "### Show last layer probability"
   ]
  },
  {
   "cell_type": "code",
   "execution_count": 28,
   "id": "114d3190-08db-41e2-b727-3395242914a7",
   "metadata": {},
   "outputs": [
    {
     "data": {
      "image/png": "[encoded data removed]",
      "text/plain": [
       "<Figure size 1000x100 with 2 Axes>"
      ]
     },
     "metadata": {},
     "output_type": "display_data"
    }
   ],
   "source": [
    "# Utiliser seaborn pour créer une heatmap\n",
    "plt.figure(figsize=(10, 1))\n",
    "sns.heatmap(prediction, annot=True, cmap='viridis', cbar=True)\n",
    "plt.title(\"Heatmap des Probabilités de la Dernière Couche\")\n",
    "plt.ylabel(\"Probabilités\")\n",
    "plt.xlabel(\"Classes\")\n",
    "plt.xticks(np.arange(10), np.arange(10))  # Pour afficher les labels de classes de 0 à 9\n",
    "plt.show()\n",
    "\n",
    "\n"
   ]
  }
 ],
 "metadata": {
  "kernelspec": {
   "display_name": "Python 3 (ipykernel)",
   "language": "python",
   "name": "python3"
  },
  "language_info": {
   "codemirror_mode": {
    "name": "ipython",
    "version": 3
   },
   "file_extension": ".py",
   "mimetype": "text/x-python",
   "name": "python",
   "nbconvert_exporter": "python",
   "pygments_lexer": "ipython3",
   "version": "3.9.13"
  }
 },
 "nbformat": 4,
 "nbformat_minor": 5
}
