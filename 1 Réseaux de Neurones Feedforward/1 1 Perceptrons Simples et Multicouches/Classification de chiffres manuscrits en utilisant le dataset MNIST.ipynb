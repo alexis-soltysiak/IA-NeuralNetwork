{
 "cells": [
  {
   "cell_type": "code",
   "execution_count": 24,
   "id": "febc3fed-7eb5-4b5a-90ee-52db84553a9c",
   "metadata": {},
   "outputs": [
    {
     "ename": "ModuleNotFoundError",
     "evalue": "No module named 'seaborn'",
     "output_type": "error",
     "traceback": [
      "\u001b[1;31m---------------------------------------------------------------------------\u001b[0m",
      "\u001b[1;31mModuleNotFoundError\u001b[0m                       Traceback (most recent call last)",
      "Cell \u001b[1;32mIn[24], line 5\u001b[0m\n\u001b[0;32m      3\u001b[0m \u001b[38;5;28;01mimport\u001b[39;00m \u001b[38;5;21;01mmatplotlib\u001b[39;00m\u001b[38;5;21;01m.\u001b[39;00m\u001b[38;5;21;01mpyplot\u001b[39;00m \u001b[38;5;28;01mas\u001b[39;00m \u001b[38;5;21;01mplt\u001b[39;00m\n\u001b[0;32m      4\u001b[0m \u001b[38;5;28;01mfrom\u001b[39;00m \u001b[38;5;21;01mtensorflow\u001b[39;00m\u001b[38;5;21;01m.\u001b[39;00m\u001b[38;5;21;01mkeras\u001b[39;00m\u001b[38;5;21;01m.\u001b[39;00m\u001b[38;5;21;01mmodels\u001b[39;00m \u001b[38;5;28;01mimport\u001b[39;00m Model\n\u001b[1;32m----> 5\u001b[0m \u001b[38;5;28;01mimport\u001b[39;00m \u001b[38;5;21;01mseaborn\u001b[39;00m \u001b[38;5;28;01mas\u001b[39;00m \u001b[38;5;21;01msns\u001b[39;00m\n\u001b[0;32m      7\u001b[0m \u001b[38;5;66;03m# Charger le dataset MNIST\u001b[39;00m\n\u001b[0;32m      8\u001b[0m (train_images, _), (test_images, _) \u001b[38;5;241m=\u001b[39m tf\u001b[38;5;241m.\u001b[39mkeras\u001b[38;5;241m.\u001b[39mdatasets\u001b[38;5;241m.\u001b[39mmnist\u001b[38;5;241m.\u001b[39mload_data()\n",
      "\u001b[1;31mModuleNotFoundError\u001b[0m: No module named 'seaborn'"
     ]
    }
   ],
   "source": [
    "import tensorflow as tf\n",
    "import numpy as np\n",
    "import matplotlib.pyplot as plt\n",
    "from tensorflow.keras.models import Model\n",
    "import seaborn as sns\n",
    "\n",
    "# Charger le dataset MNIST\n",
    "(train_images, _), (test_images, _) = tf.keras.datasets.mnist.load_data()\n",
    "train_images = train_images / 255.0\n",
    "test_images = test_images / 255.0\n",
    "\n",
    "# Créer un modèle simple\n",
    "model = tf.keras.models.Sequential([\n",
    "    tf.keras.layers.Flatten(input_shape=(28, 28)),\n",
    "    tf.keras.layers.Dense(64, activation='relu'),\n",
    "    tf.keras.layers.Dense(10, activation='softmax')\n",
    "])\n",
    "\n",
    "# Compiler et entraîner le modèle\n",
    "model.compile(optimizer='adam',\n",
    "              loss='sparse_categorical_crossentropy',\n",
    "              metrics=['accuracy'])\n",
    "model.fit(train_images, train_labels, epochs=5)\n",
    "\n",
    "\n",
    "# Choisir une image de test\n",
    "test_img = test_images[0].reshape(1, 28, 28)\n",
    "\n",
    "\n",
    "%matplotlib inline\n",
    "import matplotlib.pyplot as plt\n",
    "\n",
    "# Sélectionner une image de test et la redimensionner pour l'affichage\n",
    "selected_test_image = test_images[0]\n"
   ]
  },
  {
   "cell_type": "code",
   "execution_count": 23,
   "id": "114d3190-08db-41e2-b727-3395242914a7",
   "metadata": {},
   "outputs": [
    {
     "data": {
      "image/png": "[encoded data removed]",
      "text/plain": [
       "<Figure size 640x480 with 1 Axes>"
      ]
     },
     "metadata": {},
     "output_type": "display_data"
    },
    {
     "name": "stdout",
     "output_type": "stream",
     "text": [
      "1/1 [==============================] - 0s 19ms/step\n",
      "Predicted class: 7\n",
      "1/1 [==============================] - 0s 20ms/step\n",
      "Activations de la dernière couche (softmax outputs): [[2.6512151e-07 3.3670725e-10 1.7950083e-06 4.3885558e-04 4.0268458e-10\n",
      "  6.3625216e-06 3.7767942e-14 9.9947208e-01 4.3899076e-06 7.6356642e-05]]\n"
     ]
    }
   ],
   "source": [
    "\n",
    "# Afficher l'image\n",
    "plt.imshow(selected_test_image, cmap='gray')\n",
    "plt.title('Selected Test Image')\n",
    "plt.show()\n",
    "# Redimensionner l'image pour qu'elle ait une forme compatible avec le modèle\n",
    "test_img_reshaped = selected_test_image.reshape(1, 28, 28)\n",
    "# Utiliser le modèle pour prédire la classe de l'image\n",
    "prediction = model.predict(test_img_reshaped)\n",
    "\n",
    "# Obtenir l'indice de la valeur maximale dans les prédictions\n",
    "predicted_class = np.argmax(prediction, axis=1)\n",
    "\n",
    "# Afficher la classe prédite\n",
    "print(\"Predicted class:\", predicted_class[0])\n"
   ]
  },
  {
   "cell_type": "code",
   "execution_count": null,
   "id": "9714c680-0c50-48b3-9527-319a6dda7ee3",
   "metadata": {},
   "outputs": [],
   "source": [
    "\n",
    "# Faire une prédiction\n",
    "prediction = model.predict(test_img_reshaped)\n",
    "\n",
    "# Utiliser seaborn pour créer une heatmap\n",
    "plt.figure(figsize=(10, 1))\n",
    "sns.heatmap(prediction, annot=True, cmap='viridis', cbar=True)\n",
    "plt.title(\"Heatmap des Probabilités de la Dernière Couche\")\n",
    "plt.ylabel(\"Probabilités\")\n",
    "plt.xlabel(\"Classes\")\n",
    "plt.xticks(np.arange(10), np.arange(10))  # Pour afficher les labels de classes de 0 à 9\n",
    "plt.show()"
   ]
  }
 ],
 "metadata": {
  "kernelspec": {
   "display_name": "Python 3 (ipykernel)",
   "language": "python",
   "name": "python3"
  },
  "language_info": {
   "codemirror_mode": {
    "name": "ipython",
    "version": 3
   },
   "file_extension": ".py",
   "mimetype": "text/x-python",
   "name": "python",
   "nbconvert_exporter": "python",
   "pygments_lexer": "ipython3",
   "version": "3.9.13"
  }
 },
 "nbformat": 4,
 "nbformat_minor": 5
}
